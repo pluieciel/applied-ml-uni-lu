{
  "nbformat": 4,
  "nbformat_minor": 0,
  "metadata": {
    "colab": {
      "provenance": [],
      "authorship_tag": "ABX9TyPHg35IyOQOdVZpzce5qS6g",
      "include_colab_link": true
    },
    "kernelspec": {
      "name": "python3",
      "display_name": "Python 3"
    },
    "language_info": {
      "name": "python"
    }
  },
  "cells": [
    {
      "cell_type": "markdown",
      "metadata": {
        "id": "view-in-github",
        "colab_type": "text"
      },
      "source": [
        "<a href=\"https://colab.research.google.com/github/pluieciel/applied-ml-uni-lu/blob/master/Ants.ipynb\" target=\"_parent\"><img src=\"https://colab.research.google.com/assets/colab-badge.svg\" alt=\"Open In Colab\"/></a>"
      ]
    },
    {
      "cell_type": "markdown",
      "source": [
        "An ant leaves its anthill in order to forage for food. It moves with the speed of 10cm per second, but it doesn’t know where to go, therefore every second it moves randomly 10cm directly north, south, east or west with equal probability.\n",
        "\n",
        "1. If the food is located on east-west lines 20cm to the north and 20cm to the south, as well as on north-south lines 20cm to the east and 20cm to the west from the anthill, how long will it take the ant to reach it on average?"
      ],
      "metadata": {
        "id": "-1KsgeAJN0Uz"
      }
    },
    {
      "cell_type": "code",
      "source": [
        "# Discrete phase-type distribution (https://en.wikipedia.org/wiki/Discrete_phase-type_distribution)\n",
        "# let 10cm be 1 unit, ant at (0,0)\n",
        "# we denote {(0,0)} as state0, {(0,1), (1,0), (-1,0), (0,-1)} as state 1, {(1,1), (1,-1), (-1,1), (-1,-1)} as state 2, (transient states)\n",
        "# all other locations as state 3 (absorbing state)\n",
        "\n",
        "# build transition matrix with transient states\n",
        "import numpy as np\n",
        "T = np.matrix([[0,1,0],[1/4,0,1/2],[0,1/2,0]])\n",
        "\n",
        "init = np.array([1,0,0]) # begin distribution\n",
        "ones = np.array([1,1,1])\n",
        "I = np.eye(3)\n",
        "\n",
        "# the probability density of steps to reach absorbing state (state 3) forms a geometric distribution, the expectation of which is 1/(1-p):\n",
        "init @ (I-T).I @ ones\n",
        "# the expectation is 4.5 seconds"
      ],
      "metadata": {
        "colab": {
          "base_uri": "https://localhost:8080/"
        },
        "id": "W_1cRs7-OFXG",
        "outputId": "26fd5bad-e23f-4dd9-f0f5-adff15acc8f7"
      },
      "execution_count": null,
      "outputs": [
        {
          "output_type": "execute_result",
          "data": {
            "text/plain": [
              "matrix([[4.5]])"
            ]
          },
          "metadata": {},
          "execution_count": 4
        }
      ]
    },
    {
      "cell_type": "markdown",
      "source": [
        "2. What is the average time the ant will reach food if it is located only on a diagonal line passing through (10cm, 0cm) and (0cm, 10cm) points?"
      ],
      "metadata": {
        "id": "v1_tPjjcN-Ed"
      }
    },
    {
      "cell_type": "markdown",
      "source": [
        "Since symmetric on x and y, we transfer the problem into 1-d random walk to reach 1 from 0 on Z line.\n",
        "\n",
        "Probability of reach 1 for the first time in 2k+1 step is\n",
        "$\\frac{1}{k+1}C_{k}^{2k}(\\frac{1}{2})^{2k+1}$, probability in 2k step is 0.\n",
        "\n",
        "\n",
        "$\\mathop{\\mathbb{E}(n) = }\\sum_{n=0}^{+\\infty} n*p(n) = \\sum_{k=0}^{+\\infty} (2k+1)*\\frac{1}{k+1}C_{k}^{2k}(\\frac{1}{2})^{2k+1} = \\sum_{k=1}^{+\\infty}\\frac{(2k-1)!!}{(2k)!!} $\n",
        "\n",
        "$ \\because \\frac{(2k-1)!!}{(2k)!!} > \\frac{1}{2k} $\n",
        "\n",
        "$ \\therefore \\mathop{\\mathbb{E}(n)} > \\frac{1}{2}\\sum_{k=1}^{+\\infty}\\frac{1}{k} = \\infty$\n",
        "\n",
        "So the average time is infinity"
      ],
      "metadata": {
        "id": "keABVY9mVGFe"
      }
    },
    {
      "cell_type": "markdown",
      "source": [
        "3. Can you write a program that comes up with an estimate of average time to find food for any closed boundary around the anthill? What would be the answer if food is located outside an area defined by ( (x – 2.5cm) / 30cm )2 + ( (y – 2.5cm) / 40cm )2 < 1 in coordinate system where the anthill is located at (x = 0cm, y = 0cm)?"
      ],
      "metadata": {
        "id": "-3sFXKwzOAH8"
      }
    },
    {
      "cell_type": "code",
      "execution_count": null,
      "metadata": {
        "id": "SMXnnkd0ZgCN"
      },
      "outputs": [],
      "source": [
        "# define a function\n",
        "f = lambda pos: ((pos[0]-0.25)/3)**2+((pos[1]-0.25)/40)**2<1"
      ]
    },
    {
      "cell_type": "code",
      "source": [
        "def rw(f,n):\n",
        "    sum = 0\n",
        "    for _ in range(n):\n",
        "        step = 0\n",
        "        ant = np.array([0,0])\n",
        "        while f(ant):\n",
        "            ant += ([0,1],[0,-1],[-1,0],[1,0])[np.random.randint(4)]\n",
        "            step += 1\n",
        "        sum += step\n",
        "    return sum / n"
      ],
      "metadata": {
        "id": "Oa8oo3jLZwfh"
      },
      "execution_count": null,
      "outputs": []
    },
    {
      "cell_type": "markdown",
      "source": [
        "It is possible to use parallel computing (e.g. Spark on cluster to speed up the simulation)"
      ],
      "metadata": {
        "id": "R6grt4ykd8YY"
      }
    },
    {
      "cell_type": "code",
      "source": [
        "rw(f, 100000)"
      ],
      "metadata": {
        "colab": {
          "base_uri": "https://localhost:8080/"
        },
        "id": "i7Tpv-w7b86B",
        "outputId": "11f02af6-de93-4803-fdeb-9674ec1c03a9"
      },
      "execution_count": null,
      "outputs": [
        {
          "output_type": "execute_result",
          "data": {
            "text/plain": [
              "24.00063"
            ]
          },
          "metadata": {},
          "execution_count": 24
        }
      ]
    },
    {
      "cell_type": "markdown",
      "source": [
        "With 100000 times trials, the estimated average time is 24 seconds."
      ],
      "metadata": {
        "id": "pjl9Gz3Ye4r8"
      }
    },
    {
      "cell_type": "code",
      "source": [
        "import numpy as np"
      ],
      "metadata": {
        "id": "5uJe1kpOrzfY"
      },
      "execution_count": null,
      "outputs": []
    },
    {
      "cell_type": "code",
      "source": [
        "T=np.zeros([10,10])"
      ],
      "metadata": {
        "id": "pnBcznd1r19e"
      },
      "execution_count": null,
      "outputs": []
    },
    {
      "cell_type": "code",
      "source": [
        "T"
      ],
      "metadata": {
        "colab": {
          "base_uri": "https://localhost:8080/"
        },
        "id": "IthIWFlkr86G",
        "outputId": "5bb20107-e0b6-4ac1-9dcf-5842d4b12610"
      },
      "execution_count": null,
      "outputs": [
        {
          "output_type": "execute_result",
          "data": {
            "text/plain": [
              "array([[0.  , 0.25, 0.  , 0.25, 0.  , 0.  , 0.  , 0.  , 0.  , 0.  ],\n",
              "       [0.25, 0.  , 0.25, 0.  , 0.25, 0.  , 0.  , 0.  , 0.  , 0.  ],\n",
              "       [0.  , 0.25, 0.  , 0.  , 0.  , 0.25, 0.  , 0.  , 0.  , 0.  ],\n",
              "       [0.25, 0.  , 0.  , 0.  , 0.25, 0.  , 0.25, 0.  , 0.  , 0.  ],\n",
              "       [0.  , 0.25, 0.  , 0.25, 0.  , 0.25, 0.  , 0.25, 0.  , 0.  ],\n",
              "       [0.  , 0.  , 0.25, 0.  , 0.25, 0.  , 0.  , 0.  , 0.25, 0.  ],\n",
              "       [0.  , 0.  , 0.  , 0.25, 0.  , 0.  , 0.  , 0.25, 0.  , 0.  ],\n",
              "       [0.  , 0.  , 0.  , 0.  , 0.25, 0.  , 0.25, 0.  , 0.25, 0.  ],\n",
              "       [0.  , 0.  , 0.  , 0.  , 0.  , 0.25, 0.  , 0.25, 0.  , 0.  ],\n",
              "       [0.  , 0.  , 0.  , 0.  , 0.  , 0.  , 0.  , 0.  , 0.  , 0.  ]])"
            ]
          },
          "metadata": {},
          "execution_count": 54
        }
      ]
    },
    {
      "cell_type": "code",
      "source": [
        "T1=T[:-1,:-1]"
      ],
      "metadata": {
        "id": "9-BKo5IysHUK"
      },
      "execution_count": null,
      "outputs": []
    },
    {
      "cell_type": "code",
      "source": [
        "T1"
      ],
      "metadata": {
        "colab": {
          "base_uri": "https://localhost:8080/"
        },
        "id": "Cyz1h1PWs9gL",
        "outputId": "1e076027-f3dd-496c-d86b-faa53359c3f3"
      },
      "execution_count": null,
      "outputs": [
        {
          "output_type": "execute_result",
          "data": {
            "text/plain": [
              "array([[0.  , 0.25, 0.  , 0.25, 0.  , 0.  , 0.  , 0.  , 0.  ],\n",
              "       [0.25, 0.  , 0.25, 0.  , 0.25, 0.  , 0.  , 0.  , 0.  ],\n",
              "       [0.  , 0.25, 0.  , 0.  , 0.  , 0.25, 0.  , 0.  , 0.  ],\n",
              "       [0.25, 0.  , 0.  , 0.  , 0.25, 0.  , 0.25, 0.  , 0.  ],\n",
              "       [0.  , 0.25, 0.  , 0.25, 0.  , 0.25, 0.  , 0.25, 0.  ],\n",
              "       [0.  , 0.  , 0.25, 0.  , 0.25, 0.  , 0.  , 0.  , 0.25],\n",
              "       [0.  , 0.  , 0.  , 0.25, 0.  , 0.  , 0.  , 0.25, 0.  ],\n",
              "       [0.  , 0.  , 0.  , 0.  , 0.25, 0.  , 0.25, 0.  , 0.25],\n",
              "       [0.  , 0.  , 0.  , 0.  , 0.  , 0.25, 0.  , 0.25, 0.  ]])"
            ]
          },
          "metadata": {},
          "execution_count": 56
        }
      ]
    },
    {
      "cell_type": "code",
      "source": [
        "init = np.zeros(9)"
      ],
      "metadata": {
        "id": "sWk6dvz2tApM"
      },
      "execution_count": null,
      "outputs": []
    },
    {
      "cell_type": "code",
      "source": [
        "init[4]=1"
      ],
      "metadata": {
        "id": "iA9lWa5atFXu"
      },
      "execution_count": null,
      "outputs": []
    },
    {
      "cell_type": "code",
      "source": [
        "init"
      ],
      "metadata": {
        "colab": {
          "base_uri": "https://localhost:8080/"
        },
        "id": "_xFAyoT5tIEf",
        "outputId": "987b60df-290e-482d-86fa-2d85d88f0e12"
      },
      "execution_count": null,
      "outputs": [
        {
          "output_type": "execute_result",
          "data": {
            "text/plain": [
              "array([0., 0., 0., 0., 1., 0., 0., 0., 0.])"
            ]
          },
          "metadata": {},
          "execution_count": 59
        }
      ]
    },
    {
      "cell_type": "code",
      "source": [
        "ones = np.ones(9)"
      ],
      "metadata": {
        "id": "nwo7Dh1xtJ4g"
      },
      "execution_count": null,
      "outputs": []
    },
    {
      "cell_type": "code",
      "source": [
        "ones"
      ],
      "metadata": {
        "colab": {
          "base_uri": "https://localhost:8080/"
        },
        "id": "BWbHMFK1tV9t",
        "outputId": "56d31bf3-9be9-4beb-d3fe-be60f2aef597"
      },
      "execution_count": null,
      "outputs": [
        {
          "output_type": "execute_result",
          "data": {
            "text/plain": [
              "array([1., 1., 1., 1., 1., 1., 1., 1., 1.])"
            ]
          },
          "metadata": {},
          "execution_count": 62
        }
      ]
    },
    {
      "cell_type": "code",
      "source": [
        "I = np.eye(9)"
      ],
      "metadata": {
        "id": "myaI7eHztbTl"
      },
      "execution_count": null,
      "outputs": []
    },
    {
      "cell_type": "code",
      "source": [
        "init @ (I-np.matrix(T1)).I @ ones"
      ],
      "metadata": {
        "colab": {
          "base_uri": "https://localhost:8080/"
        },
        "id": "vfMsdf52tOPL",
        "outputId": "2a3c76d4-ed33-45f1-ae68-1288311a0405"
      },
      "execution_count": null,
      "outputs": [
        {
          "output_type": "execute_result",
          "data": {
            "text/plain": [
              "matrix([[4.5]])"
            ]
          },
          "metadata": {},
          "execution_count": 64
        }
      ]
    },
    {
      "cell_type": "code",
      "source": [
        "T = np.matrix([[0,1,0],[1/4,0,1/2],[0,1/2,0]])"
      ],
      "metadata": {
        "id": "9oDxkYR2vLZm"
      },
      "execution_count": null,
      "outputs": []
    }
  ]
}